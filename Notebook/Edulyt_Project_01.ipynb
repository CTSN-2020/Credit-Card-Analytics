{
 "cells": [
  {
   "cell_type": "markdown",
   "id": "c57327c7-3d9d-4413-9f40-f48180d71335",
   "metadata": {},
   "source": [
    "# Title\n",
    "#### This notebook analyzes credit card customer data from Edulyt India. The goal is to extract insights on spending, repayment, and bank profitability."
   ]
  },
  {
   "cell_type": "markdown",
   "id": "9d92542f-4354-4b5b-a93b-eecc14dba1d1",
   "metadata": {},
   "source": [
    "# Data Loading"
   ]
  },
  {
   "cell_type": "markdown",
   "id": "4d629d33-bc32-4a30-b082-a8201fabcc03",
   "metadata": {},
   "source": [
    "#### We will upload our .xls file and convert it into .csv file.\n",
    "#### Now we will check the structure of converted .csv file."
   ]
  },
  {
   "cell_type": "code",
   "execution_count": 5,
   "id": "e1895a4d-220e-43ee-942f-564fef74b29c",
   "metadata": {},
   "outputs": [],
   "source": [
    "import warnings\n",
    "warnings.filterwarnings('ignore')"
   ]
  },
  {
   "cell_type": "code",
   "execution_count": null,
   "id": "270ca1cf-53ae-4537-a54f-b4b3ae2ac743",
   "metadata": {},
   "outputs": [],
   "source": [
    "!pip install xlrd"
   ]
  },
  {
   "cell_type": "code",
   "execution_count": null,
   "id": "a8ac9412-0297-43a5-920b-136fa85cbaf2",
   "metadata": {},
   "outputs": [],
   "source": [
    "import pandas as pd\n",
    "import matplotlib.pyplot as plt\n",
    "import seaborn as sns"
   ]
  },
  {
   "cell_type": "code",
   "execution_count": null,
   "id": "d46a213c-d7c6-43ce-920b-41c001aba886",
   "metadata": {},
   "outputs": [],
   "source": [
    "xls_file = 'Credit Banking_Project - 1.xls'\n",
    "df = pd.read_excel(xls_file, sheet_name = 0, engine='xlrd')\n",
    "df.to_csv('converted_file.csv', index= False)"
   ]
  },
  {
   "cell_type": "code",
   "execution_count": null,
   "id": "993719cd-1cdd-42dd-8f79-a54a04d928e7",
   "metadata": {},
   "outputs": [],
   "source": [
    "print(\"Conversion done!\")"
   ]
  },
  {
   "cell_type": "code",
   "execution_count": null,
   "id": "ef612f08-5099-42d1-885e-b694b9924e48",
   "metadata": {},
   "outputs": [],
   "source": [
    "df= pd.read_csv(\"converted_file.csv\")"
   ]
  },
  {
   "cell_type": "code",
   "execution_count": null,
   "id": "33caa2b3-8bed-4919-8f4d-1a1e6dc6a42d",
   "metadata": {},
   "outputs": [],
   "source": [
    "print(df.info())"
   ]
  },
  {
   "cell_type": "code",
   "execution_count": null,
   "id": "15f883ec-3dc5-446f-bb4c-f3bb5b43a1f8",
   "metadata": {},
   "outputs": [],
   "source": [
    "print(df.head())"
   ]
  },
  {
   "cell_type": "code",
   "execution_count": null,
   "id": "56ad1834-1781-499a-844d-696409bf00bf",
   "metadata": {},
   "outputs": [],
   "source": [
    "xls_file2 = 'Spending.xls'\n",
    "spend_df = pd.read_excel(xls_file2, sheet_name = 0, engine='xlrd')\n",
    "spend_df.to_csv('spended_file.csv', index= False)"
   ]
  },
  {
   "cell_type": "code",
   "execution_count": null,
   "id": "807b94b6-2fb7-4f96-ba37-600e82df648e",
   "metadata": {},
   "outputs": [],
   "source": [
    "print(\"Conversion done!\")"
   ]
  },
  {
   "cell_type": "code",
   "execution_count": null,
   "id": "390359ff-7315-4ccc-937c-0a58781871fb",
   "metadata": {},
   "outputs": [],
   "source": [
    "print(spend_df.info())"
   ]
  },
  {
   "cell_type": "code",
   "execution_count": null,
   "id": "8cf1329f-a764-408a-9eeb-7c6bc645614c",
   "metadata": {},
   "outputs": [],
   "source": [
    "print(spend_df.head())"
   ]
  },
  {
   "cell_type": "code",
   "execution_count": null,
   "id": "e95a1351-5437-44ef-996f-c754e52196a6",
   "metadata": {},
   "outputs": [],
   "source": [
    "xls_file3 = 'Repayment.xls'\n",
    "txn_df = pd.read_excel(xls_file3, sheet_name = 0, engine='xlrd')\n",
    "txn_df.to_csv('txn_file.csv', index= False)"
   ]
  },
  {
   "cell_type": "code",
   "execution_count": null,
   "id": "a3ce0fb6-44bb-4fe5-ba34-92e9d124ce01",
   "metadata": {},
   "outputs": [],
   "source": [
    "print(\"Conversion done!\")\n",
    "print(txn_df.info())"
   ]
  },
  {
   "cell_type": "code",
   "execution_count": null,
   "id": "db5b0c5f-67da-4803-a7d8-93fe30cf0b1c",
   "metadata": {},
   "outputs": [],
   "source": [
    "print(txn_df.head())"
   ]
  },
  {
   "cell_type": "markdown",
   "id": "f9862724-ac66-4522-a968-07387d0c5531",
   "metadata": {},
   "source": [
    "# Data Cleaning"
   ]
  },
  {
   "cell_type": "markdown",
   "id": "7a63cfc3-e709-4904-bc28-622e335c711d",
   "metadata": {},
   "source": [
    "#### Here we will detect the age group and fix them as the Age<18."
   ]
  },
  {
   "cell_type": "code",
   "execution_count": null,
   "id": "5c0f5b11-f6f5-4311-942d-197dac6b88d2",
   "metadata": {},
   "outputs": [],
   "source": [
    "df= df[df['Age'] >=18]"
   ]
  },
  {
   "cell_type": "code",
   "execution_count": null,
   "id": "3ff3a943-cac0-4f91-8a6d-32d20f01e314",
   "metadata": {},
   "outputs": [],
   "source": [
    "df['Age_Group']= pd.cut(df['Age'],\n",
    "                        bins=[18,25,35,45,60,100],\n",
    "                        labels=['18-25', '26-35', '36-45', '46-60', '60+'])"
   ]
  },
  {
   "cell_type": "code",
   "execution_count": null,
   "id": "f5590a6b-5bed-4d8b-a3c6-258f7a49a7b2",
   "metadata": {},
   "outputs": [],
   "source": [
    "print(df['Age_Group'].head())"
   ]
  },
  {
   "cell_type": "markdown",
   "id": "77eea6ff-f041-4a56-a349-146874710fda",
   "metadata": {},
   "source": [
    "# Load/ Join Monthly spend Data"
   ]
  },
  {
   "cell_type": "markdown",
   "id": "d81d2587-0958-46d5-8b74-20da65f1ac54",
   "metadata": {},
   "source": [
    "#### Here we will upload the Spending and Repayment files.\n",
    "#### And merge them on the basis of Costomer"
   ]
  },
  {
   "cell_type": "code",
   "execution_count": null,
   "id": "355804c2-d444-430b-bc1e-9ba9cec2add2",
   "metadata": {},
   "outputs": [],
   "source": [
    "spend_df= pd.read_csv(\"spended_file.csv\")"
   ]
  },
  {
   "cell_type": "code",
   "execution_count": null,
   "id": "0acbcf24-3eee-404b-a0cd-cbd518319d38",
   "metadata": {},
   "outputs": [],
   "source": [
    "print(spend_df.head())"
   ]
  },
  {
   "cell_type": "code",
   "execution_count": null,
   "id": "bd6d36d4-572e-4ce0-9210-2e3582632574",
   "metadata": {},
   "outputs": [],
   "source": [
    "print(\"df columns:\", df.columns.tolist())\n",
    "print(\"spend_df columns:\", spend_df.columns.tolist())"
   ]
  },
  {
   "cell_type": "code",
   "execution_count": null,
   "id": "1bbb332d-87e1-4692-a9da-c048c666e215",
   "metadata": {},
   "outputs": [],
   "source": [
    "df_combined = pd.merge(txn_df, spend_df, on=\"Costomer\", how=\"left\")"
   ]
  },
  {
   "cell_type": "code",
   "execution_count": null,
   "id": "95abe131-98d4-40bf-a603-99476a9a3440",
   "metadata": {},
   "outputs": [],
   "source": [
    "df.columns = df.columns.str.strip()\n",
    "spend_df.columns = spend_df.columns.str.strip()"
   ]
  },
  {
   "cell_type": "code",
   "execution_count": null,
   "id": "1719e6da-fe0a-4a2c-8875-36d2022ffb87",
   "metadata": {},
   "outputs": [],
   "source": [
    "print(df_combined.info())"
   ]
  },
  {
   "cell_type": "code",
   "execution_count": null,
   "id": "29c4949c-5f09-48ec-9330-8c1e4e177577",
   "metadata": {},
   "outputs": [],
   "source": [
    "df_combined.columns = df_combined.columns.str.strip()  # remove extra spaces"
   ]
  },
  {
   "cell_type": "code",
   "execution_count": null,
   "id": "ac0b7142-30af-430c-9216-4cc1675c2a9a",
   "metadata": {},
   "outputs": [],
   "source": [
    "print(df_combined.head())"
   ]
  },
  {
   "cell_type": "markdown",
   "id": "427feb21-15f0-42d9-b5d9-45fac93ee3b7",
   "metadata": {},
   "source": [
    "# Monthly Calculations"
   ]
  },
  {
   "cell_type": "markdown",
   "id": "40a3cf68-d0d7-480e-bd57-ac6844f5f150",
   "metadata": {},
   "source": [
    "#### Now check every transaction on the basis of Monthly Spend, Monthly Repayment, Over limit Check and Interest Calculation(2.9%)"
   ]
  },
  {
   "cell_type": "code",
   "execution_count": null,
   "id": "ea24a1b4-8cdf-469e-8b98-811b1236fc96",
   "metadata": {},
   "outputs": [],
   "source": [
    "print(df_combined.columns)"
   ]
  },
  {
   "cell_type": "code",
   "execution_count": null,
   "id": "30cb18ea-6fbd-4420-9853-3d9f593c2e80",
   "metadata": {},
   "outputs": [],
   "source": [
    "df_combined.rename(columns={\n",
    "    'Amount_x': 'Spend',\n",
    "    'Amount_y': 'Repayment',\n",
    "    'Month_x': 'Month'\n",
    "}, inplace=True)"
   ]
  },
  {
   "cell_type": "code",
   "execution_count": null,
   "id": "3dd0c04e-4440-4166-998b-19d0d6ad5c21",
   "metadata": {},
   "outputs": [],
   "source": [
    "print(df_combined.columns)"
   ]
  },
  {
   "cell_type": "code",
   "execution_count": null,
   "id": "f714cf37-9188-4c4e-a0ae-9cc5f478c47a",
   "metadata": {},
   "outputs": [],
   "source": [
    "monthly_spend= df_combined.groupby(['Costomer', 'Month',])['Spend'].sum().reset_index()"
   ]
  },
  {
   "cell_type": "code",
   "execution_count": null,
   "id": "c1470945-8636-4a56-bb7e-3cc347dd45e3",
   "metadata": {},
   "outputs": [],
   "source": [
    "print(monthly_spend)"
   ]
  },
  {
   "cell_type": "code",
   "execution_count": null,
   "id": "b70d7482-55dc-49a2-98b9-b1afe2b4cbca",
   "metadata": {},
   "outputs": [],
   "source": [
    "print(monthly_spend.info())"
   ]
  },
  {
   "cell_type": "code",
   "execution_count": null,
   "id": "9cdce9fd-dcb2-4927-89f7-df6b5f3734f3",
   "metadata": {},
   "outputs": [],
   "source": [
    "print(monthly_spend.head())"
   ]
  },
  {
   "cell_type": "code",
   "execution_count": null,
   "id": "e95be738-0e02-43fd-8a84-91648acc8e67",
   "metadata": {},
   "outputs": [],
   "source": [
    "monthly_comparison = df_combined.groupby('Month')[['Spend', 'Repayment']].sum().reset_index()\n",
    "plt.figure(figsize=(12,6))\n",
    "sns.lineplot(data=pd.melt(monthly_comparison, id_vars='Month'), x='Month', y='value', hue='variable')\n",
    "plt.title(\"Monthly Spend vs. Repayment\")\n",
    "plt.ylabel(\"Amount (₹)\")\n",
    "plt.xticks(rotation=45)\n",
    "plt.tight_layout()\n",
    "plt.show()"
   ]
  },
  {
   "cell_type": "markdown",
   "id": "762eb9c9-f382-4585-a42a-3d52985503f4",
   "metadata": {},
   "source": [
    "# Insights & Visualizations"
   ]
  },
  {
   "cell_type": "markdown",
   "id": "8bf4b9c6-dd0f-49ad-9a8d-62b832d06328",
   "metadata": {},
   "source": [
    "#### Here check all the Top 10 spenders on the basis of Segment-wise spend, Age-group spend, Category spend, Most profitable segment"
   ]
  },
  {
   "cell_type": "code",
   "execution_count": null,
   "id": "a64e0fb2-ffe1-41b1-bf72-d9db8e317487",
   "metadata": {},
   "outputs": [],
   "source": [
    "top10 = df_combined.groupby('Costomer')['Spend'].sum().sort_values(ascending=False).head(10) "
   ]
  },
  {
   "cell_type": "code",
   "execution_count": null,
   "id": "267e41bb-a88e-4a24-801f-12df87158697",
   "metadata": {},
   "outputs": [],
   "source": [
    "print(top10)"
   ]
  },
  {
   "cell_type": "code",
   "execution_count": null,
   "id": "cc3977e5-050c-4f71-958e-35d5a23fc2a5",
   "metadata": {},
   "outputs": [],
   "source": [
    "sns.set(style='whitegrid')"
   ]
  },
  {
   "cell_type": "code",
   "execution_count": null,
   "id": "53bfd60b-fa38-4b63-a035-29a56888ab83",
   "metadata": {},
   "outputs": [],
   "source": [
    "top10 = df_combined.groupby('Costomer')['Spend'].sum().sort_values(ascending=False).head(10)\n",
    "\n",
    "plt.figure(figsize=(10,6))\n",
    "sns.barplot(x=top10.index, y=top10.values, palette='viridis')\n",
    "plt.title(\"Top 10 Paying Costomers\")\n",
    "plt.xlabel(\"Costomer ID\")\n",
    "plt.ylabel(\"Total Spend\")\n",
    "plt.xticks(rotation=45)\n",
    "plt.tight_layout()\n",
    "plt.show()"
   ]
  },
  {
   "cell_type": "code",
   "execution_count": null,
   "id": "752f21b9-7f74-40e5-b659-d086cd59e5d8",
   "metadata": {},
   "outputs": [],
   "source": [
    "print(df.columns)"
   ]
  },
  {
   "cell_type": "markdown",
   "id": "75fd06b6-01f8-438f-99bf-52ccbaaf7977",
   "metadata": {},
   "source": [
    "# Bank Profit Calculation"
   ]
  },
  {
   "cell_type": "markdown",
   "id": "e37409d1-6991-40a1-a4e2-f7e599949ff9",
   "metadata": {},
   "source": [
    "#### If (Repayment < Spend) then we put interest on it and we will calculate the profit of the bank in every month. "
   ]
  },
  {
   "cell_type": "code",
   "execution_count": null,
   "id": "5d8a9fdc-b0b8-4c85-8e5e-590a13bb6e4e",
   "metadata": {},
   "outputs": [],
   "source": [
    "df_combined['Due'] = df_combined['Spend'] - df_combined['Repayment']\n",
    "df_combined['Due'] = df_combined['Due'].apply(lambda x: x if x > 0 else 0)\n",
    "df_combined['Interest'] = df_combined['Due'] * 0.029"
   ]
  },
  {
   "cell_type": "code",
   "execution_count": null,
   "id": "912ecec1-bdc9-4b00-a530-dc8673ff3d99",
   "metadata": {},
   "outputs": [],
   "source": [
    "print(df_combined)"
   ]
  },
  {
   "cell_type": "code",
   "execution_count": null,
   "id": "2b4c0f93-6930-4d32-a348-cab937bfc521",
   "metadata": {},
   "outputs": [],
   "source": [
    "monthly_profit = df_combined.groupby('Month')['Interest'].sum()\n",
    "plt.figure(figsize=(12,6))\n",
    "monthly_profit.plot(kind='line', marker='o', color='green')\n",
    "plt.title(\"Monthly Bank Profit from Interest (2.9% Rate)\")\n",
    "plt.xlabel(\"Month\")\n",
    "plt.ylabel(\"Profit (₹)\")\n",
    "plt.grid(True, linestyle='--', alpha=0.6)\n",
    "plt.tight_layout()\n",
    "plt.show()"
   ]
  },
  {
   "cell_type": "code",
   "execution_count": null,
   "id": "911c25a4-19df-46fa-a2ad-79d015b3d9e6",
   "metadata": {},
   "outputs": [],
   "source": []
  },
  {
   "cell_type": "code",
   "execution_count": null,
   "id": "53784f91-6808-49ba-abac-992f2b36f3d8",
   "metadata": {},
   "outputs": [],
   "source": []
  },
  {
   "cell_type": "code",
   "execution_count": null,
   "id": "3eb80cc3-b091-4159-86ab-f27d293c60e2",
   "metadata": {},
   "outputs": [],
   "source": []
  },
  {
   "cell_type": "code",
   "execution_count": null,
   "id": "2c7b3812-4ab2-40aa-9bd9-52721aa4bc33",
   "metadata": {},
   "outputs": [],
   "source": []
  }
 ],
 "metadata": {
  "kernelspec": {
   "display_name": "Python 3 (ipykernel)",
   "language": "python",
   "name": "python3"
  },
  "language_info": {
   "codemirror_mode": {
    "name": "ipython",
    "version": 3
   },
   "file_extension": ".py",
   "mimetype": "text/x-python",
   "name": "python",
   "nbconvert_exporter": "python",
   "pygments_lexer": "ipython3",
   "version": "3.12.7"
  }
 },
 "nbformat": 4,
 "nbformat_minor": 5
}
